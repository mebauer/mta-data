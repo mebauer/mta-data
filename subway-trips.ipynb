{
 "cells": [
  {
   "cell_type": "markdown",
   "id": "efe8cbc5",
   "metadata": {},
   "source": [
    "# MTA Subway Origin-Destination Ridership Estimate: 2023\n",
    "Author: Mark Bauer  \n",
    "NYS Open Data: https://data.ny.gov/Transportation/MTA-Subway-Origin-Destination-Ridership-Estimate-2/uhf3-t34z/about_data"
   ]
  },
  {
   "cell_type": "code",
   "execution_count": 3,
   "id": "0918f818",
   "metadata": {},
   "outputs": [],
   "source": [
    "import duckdb"
   ]
  },
  {
   "cell_type": "code",
   "execution_count": 4,
   "id": "8952394c",
   "metadata": {},
   "outputs": [
    {
     "name": "stdout",
     "output_type": "stream",
     "text": [
      "data-exporter.py  export-log.txt\r\n"
     ]
    }
   ],
   "source": [
    "ls"
   ]
  },
  {
   "cell_type": "code",
   "execution_count": 3,
   "id": "6cd82631",
   "metadata": {},
   "outputs": [
    {
     "name": "stdout",
     "output_type": "stream",
     "text": [
      "8.0K\texport-history.txt\r\n",
      "4.0K\texport.py\r\n",
      "2.5G\tsubway-trips.db\r\n",
      "4.0K\tsubway-trips.ipynb\r\n"
     ]
    }
   ],
   "source": [
    "!du -sh *"
   ]
  },
  {
   "cell_type": "code",
   "execution_count": 4,
   "id": "c1bbb3b7",
   "metadata": {},
   "outputs": [],
   "source": [
    "# create a DuckDB database instance\n",
    "con = duckdb.connect(\"subway-trips.db\")"
   ]
  },
  {
   "cell_type": "code",
   "execution_count": 5,
   "id": "3d394b84",
   "metadata": {},
   "outputs": [
    {
     "name": "stdout",
     "output_type": "stream",
     "text": [
      "┌────────────┐\n",
      "│ count_rows │\n",
      "│   int64    │\n",
      "├────────────┤\n",
      "│  115731896 │\n",
      "└────────────┘\n",
      "\n",
      "CPU times: user 101 ms, sys: 51.7 ms, total: 153 ms\n",
      "Wall time: 26.8 ms\n"
     ]
    }
   ],
   "source": [
    "%%time\n",
    "\n",
    "# preview data\n",
    "con.sql(\"SELECT COUNT(*) AS count_rows FROM trips\").show()"
   ]
  },
  {
   "cell_type": "code",
   "execution_count": 6,
   "id": "a7238241",
   "metadata": {},
   "outputs": [],
   "source": [
    "con.close()"
   ]
  },
  {
   "cell_type": "code",
   "execution_count": null,
   "id": "41e0ead3",
   "metadata": {},
   "outputs": [],
   "source": []
  }
 ],
 "metadata": {
  "kernelspec": {
   "display_name": "Python 3 (ipykernel)",
   "language": "python",
   "name": "python3"
  },
  "language_info": {
   "codemirror_mode": {
    "name": "ipython",
    "version": 3
   },
   "file_extension": ".py",
   "mimetype": "text/x-python",
   "name": "python",
   "nbconvert_exporter": "python",
   "pygments_lexer": "ipython3",
   "version": "3.11.0"
  }
 },
 "nbformat": 4,
 "nbformat_minor": 5
}
