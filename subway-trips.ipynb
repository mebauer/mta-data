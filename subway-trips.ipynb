{
 "cells": [
  {
   "cell_type": "markdown",
   "id": "efe8cbc5",
   "metadata": {},
   "source": [
    "# MTA Subway Origin-Destination Ridership Estimate: 2023\n",
    "Author: Mark Bauer  \n",
    "NYS Open Data: https://data.ny.gov/Transportation/MTA-Subway-Origin-Destination-Ridership-Estimate-2/uhf3-t34z/about_data"
   ]
  },
  {
   "cell_type": "code",
   "execution_count": 1,
   "id": "0918f818",
   "metadata": {},
   "outputs": [],
   "source": [
    "import duckdb"
   ]
  },
  {
   "cell_type": "code",
   "execution_count": 2,
   "id": "2182c631",
   "metadata": {},
   "outputs": [
    {
     "name": "stdout",
     "output_type": "stream",
     "text": [
      "export-history.txt  export.py           subway-trips.db     subway-trips.ipynb\r\n"
     ]
    }
   ],
   "source": [
    "ls"
   ]
  },
  {
   "cell_type": "code",
   "execution_count": 7,
   "id": "3f0318b0",
   "metadata": {},
   "outputs": [
    {
     "name": "stdout",
     "output_type": "stream",
     "text": [
      "8.0K\texport-history.txt\r\n",
      "4.0K\texport.py\r\n",
      "2.5G\tsubway-trips.db\r\n",
      "4.0K\tsubway-trips.ipynb\r\n"
     ]
    }
   ],
   "source": [
    "!du -sh *"
   ]
  },
  {
   "cell_type": "code",
   "execution_count": 8,
   "id": "c1bbb3b7",
   "metadata": {},
   "outputs": [],
   "source": [
    "# create a DuckDB database instance\n",
    "con = duckdb.connect(\"subway-trips.db\")"
   ]
  },
  {
   "cell_type": "code",
   "execution_count": 9,
   "id": "f6860173",
   "metadata": {},
   "outputs": [
    {
     "name": "stdout",
     "output_type": "stream",
     "text": [
      "┌──────────────┐\n",
      "│ count_star() │\n",
      "│    int64     │\n",
      "├──────────────┤\n",
      "│    115731896 │\n",
      "└──────────────┘\n",
      "\n",
      "CPU times: user 89.9 ms, sys: 28.4 ms, total: 118 ms\n",
      "Wall time: 23.6 ms\n"
     ]
    }
   ],
   "source": [
    "%%time\n",
    "\n",
    "# preview data\n",
    "con.sql(\"SELECT COUNT(*) FROM trips\").show()"
   ]
  },
  {
   "cell_type": "code",
   "execution_count": null,
   "id": "3fa142f4",
   "metadata": {},
   "outputs": [],
   "source": []
  }
 ],
 "metadata": {
  "kernelspec": {
   "display_name": "Python 3 (ipykernel)",
   "language": "python",
   "name": "python3"
  },
  "language_info": {
   "codemirror_mode": {
    "name": "ipython",
    "version": 3
   },
   "file_extension": ".py",
   "mimetype": "text/x-python",
   "name": "python",
   "nbconvert_exporter": "python",
   "pygments_lexer": "ipython3",
   "version": "3.11.0"
  }
 },
 "nbformat": 4,
 "nbformat_minor": 5
}
